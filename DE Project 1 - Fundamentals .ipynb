{
 "cells": [
  {
   "cell_type": "code",
   "execution_count": 14,
   "id": "813e8412",
   "metadata": {},
   "outputs": [],
   "source": [
    "import psycopg2"
   ]
  },
  {
   "cell_type": "code",
   "execution_count": 15,
   "id": "9ef10374",
   "metadata": {},
   "outputs": [],
   "source": [
    "#create connection to postgresql\n",
    "try:\n",
    "    conn = psycopg2.connect(\"host = 127.0.0.1 dbname = postgres user = postgres password = sarala\")\n",
    "except psycopg2.Error as e:\n",
    "    print('Error connecting to the DB')\n",
    "    print(e)"
   ]
  },
  {
   "cell_type": "code",
   "execution_count": 16,
   "id": "038ca548",
   "metadata": {},
   "outputs": [],
   "source": [
    "#create cursor\n",
    "\n",
    "try:\n",
    "    cur = conn.cursor()\n",
    "except psycopg2.Error as e:\n",
    "    print('Unable to create cursor')\n",
    "    print(e)"
   ]
  },
  {
   "cell_type": "code",
   "execution_count": 17,
   "id": "39297c3a",
   "metadata": {},
   "outputs": [],
   "source": [
    "conn.set_session(autocommit = True)"
   ]
  },
  {
   "cell_type": "code",
   "execution_count": 18,
   "id": "2a6f3dad",
   "metadata": {},
   "outputs": [
    {
     "name": "stdout",
     "output_type": "stream",
     "text": [
      "Unable to create DB\n",
      "database \"mydb\" already exists\n",
      "\n"
     ]
    }
   ],
   "source": [
    "#create database\n",
    "try:\n",
    "    cur.execute(\"Create Database MyDB\")\n",
    "except psycopg2.Error as e:\n",
    "    print('Unable to create DB')\n",
    "    print(e)"
   ]
  },
  {
   "cell_type": "code",
   "execution_count": 19,
   "id": "f937ae90",
   "metadata": {},
   "outputs": [],
   "source": [
    "#create connection to the new DB created - MyDB\n",
    "try:\n",
    "    conn.close()\n",
    "except psycopg2.Error as e:\n",
    "    print(e)\n",
    "    \n",
    "try:\n",
    "    conn = psycopg2.connect(\"host = 127.0.0.1 dbname = mydb user = postgres password =sarala\")\n",
    "except psycopg2.Error as e:\n",
    "    print('Could not make the connection')\n",
    "    print(e)\n",
    "    \n",
    "try:\n",
    "    cur = conn.cursor()\n",
    "except psycopg2.Error as e:\n",
    "    print('Unable to create cursor')\n",
    "    print(e) \n",
    "\n",
    "conn.set_session(autocommit = True)"
   ]
  },
  {
   "cell_type": "code",
   "execution_count": 20,
   "id": "3f1a8ecb",
   "metadata": {},
   "outputs": [],
   "source": [
    "#create table Students\n",
    "\n",
    "try:\n",
    "    cur.execute(\"CREATE TABLE IF NOT EXISTS students (student_id int, name varchar, age int, gender varchar, subject varchar,marks int);\")\n",
    "except psycopg2.Error as e:\n",
    "    print('Unable to create table')\n",
    "    print(e) "
   ]
  },
  {
   "cell_type": "code",
   "execution_count": 21,
   "id": "1c3f6df7",
   "metadata": {},
   "outputs": [],
   "source": [
    "#insert values to the above table\n",
    "\n",
    "try:\n",
    "    cur.execute(\"INSERT INTO students(student_id, name, age, gender, subject, marks) \\\n",
    "    VALUES(%s, %s, %s, %s, %s, %s)\",\\\n",
    "    (1,'Raj', 23, 'Male', 'Python', 85))\n",
    "except psycopg2.Error as e:\n",
    "    print('Unable to insert values')\n",
    "    print(e)     \n",
    "    \n",
    "\n",
    "\n",
    "try:\n",
    "    cur.execute(\"INSERT INTO students(student_id, name, age, gender, subject, marks) \\\n",
    "    VALUES(%s, %s, %s, %s, %s, %s)\",\\\n",
    "    (2,'Priya', 22, 'Female', 'Python', 86))\n",
    "except psycopg2.Error as e:\n",
    "    print('Unable to insert values')\n",
    "    print(e)     "
   ]
  },
  {
   "cell_type": "code",
   "execution_count": 22,
   "id": "c6e02b5c",
   "metadata": {},
   "outputs": [
    {
     "name": "stdout",
     "output_type": "stream",
     "text": [
      "(1, 'Raj', 23, 'Male', 'Python', 85)\n",
      "(2, 'Priya', 22, 'Female', 'Python', 86)\n",
      "(1, 'Raj', 23, 'Male', 'Python', 85)\n",
      "(2, 'Priya', 22, 'Female', 'Python', 86)\n"
     ]
    }
   ],
   "source": [
    "#query table\n",
    "try:\n",
    "    cur.execute(\"SELECT * FROM students;\")\n",
    "except psycopg2.Error as e:\n",
    "    print('Unable to retrieve values')\n",
    "    print(e)  \n",
    "\n",
    "row = cur.fetchone()\n",
    "while row:\n",
    "    print(row)\n",
    "    row = cur.fetchone()\n",
    "\n"
   ]
  },
  {
   "cell_type": "code",
   "execution_count": null,
   "id": "2cd69873",
   "metadata": {},
   "outputs": [],
   "source": []
  }
 ],
 "metadata": {
  "kernelspec": {
   "display_name": "Python 3",
   "language": "python",
   "name": "python3"
  },
  "language_info": {
   "codemirror_mode": {
    "name": "ipython",
    "version": 3
   },
   "file_extension": ".py",
   "mimetype": "text/x-python",
   "name": "python",
   "nbconvert_exporter": "python",
   "pygments_lexer": "ipython3",
   "version": "3.6.8"
  }
 },
 "nbformat": 4,
 "nbformat_minor": 5
}
